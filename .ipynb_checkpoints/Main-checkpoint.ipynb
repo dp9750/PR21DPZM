{
 "cells": [
  {
   "cell_type": "markdown",
   "metadata": {},
   "source": [
    "## Uporabljene knjižnice"
   ]
  },
  {
   "cell_type": "code",
   "execution_count": 1,
   "metadata": {},
   "outputs": [],
   "source": [
    "from csv import DictReader\n",
    "from collections import OrderedDict\n",
    "from matplotlib import pyplot as plt"
   ]
  },
  {
   "cell_type": "markdown",
   "metadata": {},
   "source": [
    "## Branje podatkov"
   ]
  },
  {
   "cell_type": "code",
   "execution_count": 2,
   "metadata": {},
   "outputs": [],
   "source": [
    "# Datoteka mora biti v enaki mapi kot Main.py\n",
    "# Vrne seznam slovarjev - vsaka vrstica je svoj slovar\n",
    "def read_file(filename):\n",
    "    try:\n",
    "        with open(filename) as file:\n",
    "            reader = DictReader(file, delimiter=\";\")\n",
    "            return list(reader)\n",
    "        \n",
    "    except FileNotFoundError:\n",
    "        print(\"File {0} not found. \".format(filename))"
   ]
  },
  {
   "cell_type": "code",
   "execution_count": 3,
   "metadata": {},
   "outputs": [],
   "source": [
    "# read data\n",
    "data = read_file(\"podatki.csv\")"
   ]
  },
  {
   "cell_type": "markdown",
   "metadata": {},
   "source": [
    "## Atributi"
   ]
  },
  {
   "cell_type": "code",
   "execution_count": 4,
   "metadata": {},
   "outputs": [],
   "source": [
    "# Odstrani šumnike in vodilne številke,\n",
    "# pretvori v male črke\n",
    "def format_key(attribute):\n",
    "    slovar = {'č': 'c', 'š': 's', 'ž':'z', 'ć': 'c'}\n",
    "    attribute = attribute.lower()\n",
    "    splitted = attribute.split(\" \")\n",
    "    splitted.pop(0)\n",
    "    output = \"\"\n",
    "    for c in \"_\".join(splitted):\n",
    "        if c in slovar:\n",
    "            output += slovar[c]\n",
    "        else: \n",
    "            output += c\n",
    "    return output"
   ]
  },
  {
   "cell_type": "code",
   "execution_count": 5,
   "metadata": {},
   "outputs": [],
   "source": [
    "def format_atributtes(rows):\n",
    "    for i, row in enumerate(rows):\n",
    "        output = {}\n",
    "        for key, value in row.items():\n",
    "            output[format_key(key)] = value\n",
    "        rows[i] = output"
   ]
  },
  {
   "cell_type": "code",
   "execution_count": 6,
   "metadata": {},
   "outputs": [
    {
     "name": "stdout",
     "output_type": "stream",
     "text": [
      "stevilka_zadeve\n",
      "datum_nesrece\n",
      "ura_nesrece\n",
      "nadzornik_prisoten\n",
      "zdravnik_prisoten\n",
      "resevalec_prisoten\n",
      "udelezenec_a_–_leto_rojstva\n",
      "udelezenec_a_–_drzava\n",
      "udelezenec_a_–_zvrst_smucanja\n",
      "udelezenec_a_–_ravnanje_pred_nesreco\n",
      "udelezenec_b_–_leto_rojstva\n",
      "udelezenec_b_–_drzava\n",
      "udelezenec_b_–_zvrst_smucanja\n",
      "udelezenec_b_–_ravnanje_pred_nesreco\n",
      "skica_nesrece\n",
      "fotografija_kraja_nesrece\n",
      "posnetek_kraja_nesrece\n",
      "vreme\n",
      "vidljivost\n",
      "temperatura\n",
      "vrsta_snega\n",
      "veter\n",
      "telesna_poskodba\n"
     ]
    }
   ],
   "source": [
    "# formatiranje atributov\n",
    "format_atributtes(data)\n",
    "\n",
    "# Izpis atributov\n",
    "for key in data[0].keys():\n",
    "    print(key)"
   ]
  },
  {
   "cell_type": "markdown",
   "metadata": {},
   "source": [
    "## Filtriranje podatkov\n",
    "\n",
    "Določenim podatkom manjkajo vrednosti, ali pa so po nepotrebnem dodane. Nekaterim letom na primer manjka vodilna števka (983 namesto 1983), nekateri pa imajo vrednosti dodane, npr. '4 s snegom povsem pokrito smučišče' in 's snegom povsem pokrito smučišče' sta dve vrsti snega, čeprav gre za isto stvar. Te in podobne težave je potrebno odpraviti. "
   ]
  },
  {
   "cell_type": "code",
   "execution_count": 7,
   "metadata": {},
   "outputs": [],
   "source": [
    "def replace_value(value):\n",
    "    value = value.strip(\" \").lower()\n",
    "    value = value.split(\" \")\n",
    "    value.pop(0)\n",
    "    if value:\n",
    "        return \" \".join(value)\n",
    "    return None\n",
    "\n",
    "def replace_bool(value):\n",
    "    value = value.strip()\n",
    "    if not value or value == \"Ne\":\n",
    "        return False\n",
    "    return True\n",
    "\n",
    "def replace_year(value):\n",
    "    value = value.strip()\n",
    "    if not value:\n",
    "        return None\n",
    "    if len(value) == 3:\n",
    "        return \"1\" + str(value)\n",
    "    return value\n",
    "\n",
    "def replace_none(value):\n",
    "    value = value.strip(\" \").lower()\n",
    "    if not value:\n",
    "        return None\n",
    "    return value"
   ]
  },
  {
   "cell_type": "code",
   "execution_count": 8,
   "metadata": {},
   "outputs": [],
   "source": [
    "for i, row in enumerate(data):\n",
    "    \n",
    "    # udeleženec A in B leto rojstva\n",
    "    data[i][\"udelezenec_a_–_leto_rojstva\"] = replace_year(row[\"udelezenec_a_–_leto_rojstva\"])\n",
    "    data[i][\"udelezenec_b_–_leto_rojstva\"] = replace_year(row[\"udelezenec_b_–_leto_rojstva\"])\n",
    "    \n",
    "    # udeleženec A in B ravnanje pred nesrečo\n",
    "    data[i][\"udelezenec_a_–_ravnanje_pred_nesreco\"] = replace_value(row[\"udelezenec_a_–_ravnanje_pred_nesreco\"])\n",
    "    data[i][\"udelezenec_b_–_ravnanje_pred_nesreco\"] = replace_value(row[\"udelezenec_b_–_ravnanje_pred_nesreco\"])\n",
    "    \n",
    "    # udeleženec A in B država\n",
    "    data[i][\"udelezenec_a_–_drzava\"] = replace_none(row[\"udelezenec_a_–_drzava\"])\n",
    "    data[i][\"udelezenec_b_–_drzava\"] = replace_none(row[\"udelezenec_b_–_drzava\"])\n",
    "    \n",
    "    # skica nesreče\n",
    "    data[i][\"skica_nesrece\"] = replace_bool(row[\"skica_nesrece\"])\n",
    "    \n",
    "    # fotografija nesreče\n",
    "    data[i][\"fotografija_kraja_nesrece\"] = replace_bool(row[\"fotografija_kraja_nesrece\"])\n",
    "    \n",
    "    # posnetek kraja nesreče\n",
    "    data[i][\"posnetek_kraja_nesrece\"] = replace_bool(row[\"posnetek_kraja_nesrece\"])\n",
    "    \n",
    "    # vreme\n",
    "    data[i][\"vreme\"] = replace_value(row[\"vreme\"])\n",
    "    \n",
    "    # vidljivost\n",
    "    data[i][\"vidljivost\"] = replace_value(row[\"vidljivost\"])\n",
    "       \n",
    "    # vrsta snega\n",
    "    data[i][\"vrsta_snega\"] = replace_value(row[\"vrsta_snega\"])\n",
    "    \n",
    "    # veter\n",
    "    data[i][\"veter\"] = replace_value(row[\"veter\"])"
   ]
  },
  {
   "cell_type": "markdown",
   "metadata": {},
   "source": [
    "## Nesreče po posamezni uri"
   ]
  },
  {
   "cell_type": "code",
   "execution_count": 9,
   "metadata": {},
   "outputs": [],
   "source": [
    "# Parameter rows so prebrani podatki\n",
    "def accident_times(rows):\n",
    "    hours = {}\n",
    "    for row in rows:\n",
    "        time = row[\"ura_nesrece\"]\n",
    "        hour = time.split(\":\")[0]\n",
    "        if hour:\n",
    "            if hour not in hours:\n",
    "                hours[hour] = 0\n",
    "            hours[hour] += 1\n",
    "\n",
    "    # sort by hour\n",
    "    count = OrderedDict(sorted(hours.items(), reverse=True))\n",
    "\n",
    "    x = list(count.keys())\n",
    "    y = list(count.values())\n",
    "    plt.barh(x, y)\n",
    "    plt.title(\"Nesreče po urah\")\n",
    "    plt.xlabel(\"Št. nesreč\")\n",
    "    plt.ylabel(\"Ura\")\n",
    "    plt.show()"
   ]
  },
  {
   "cell_type": "code",
   "execution_count": 10,
   "metadata": {},
   "outputs": [
    {
     "data": {
      "image/png": "[encoded data removed]",
      "text/plain": [
       "<Figure size 432x288 with 1 Axes>"
      ]
     },
     "metadata": {
      "needs_background": "light"
     },
     "output_type": "display_data"
    }
   ],
   "source": [
    "# plot accidents at given hour\n",
    "accident_times(data)"
   ]
  },
  {
   "cell_type": "markdown",
   "metadata": {},
   "source": [
    "Vidi se, da se največ nesreč zgodi med deveto uro zjutraj in štirih popoldne. Med 22. uro in polnočjo pa ni bilo zabeležene nobene nesreče.\n",
    "\n",
    "## Nesreče po mescih"
   ]
  },
  {
   "cell_type": "code",
   "execution_count": 11,
   "metadata": {},
   "outputs": [
    {
     "data": {
      "image/png": "[encoded data removed]",
      "text/plain": [
       "<Figure size 432x288 with 1 Axes>"
      ]
     },
     "metadata": {
      "needs_background": "light"
     },
     "output_type": "display_data"
    }
   ],
   "source": [
    "# Nesreče glede na mesec\n",
    "def accident_date(rows):\n",
    "    dates = {}\n",
    "    \n",
    "    for row in rows:\n",
    "        date = row[\"datum_nesrece\"]\n",
    "        month = date.split(\".\")[1]\n",
    "        if month not in dates:\n",
    "            dates[month] = 0\n",
    "        dates[month] += 1\n",
    "    \n",
    "    # sort by month\n",
    "    count = OrderedDict(sorted(dates.items(), reverse=True))\n",
    "    \n",
    "    x = list(count.keys())\n",
    "    y = list(count.values())\n",
    "    plt.barh(x, y)\n",
    "    plt.title(\"Nesreče po mescih\")\n",
    "    plt.xlabel(\"Št. nesreč\")\n",
    "    plt.ylabel(\"Mesec\")\n",
    "    plt.show()\n",
    "    \n",
    "accident_date(data)"
   ]
  },
  {
   "cell_type": "markdown",
   "metadata": {},
   "source": [
    "Kot pričakovano je največ nesreč ravno v zimskih mesecih, ko se novembra začne smučarska sezona in traja vse do aprila. V poletnih mescih nesreč skoraj da ni, avgusta, septembra in oktobra pa ni bila zabeležena nobena nesreča."
   ]
  }
 ],
 "metadata": {
  "kernelspec": {
   "display_name": "Python 3",
   "language": "python",
   "name": "python3"
  },
  "language_info": {
   "codemirror_mode": {
    "name": "ipython",
    "version": 3
   },
   "file_extension": ".py",
   "mimetype": "text/x-python",
   "name": "python",
   "nbconvert_exporter": "python",
   "pygments_lexer": "ipython3",
   "version": "3.7.6"
  }
 },
 "nbformat": 4,
 "nbformat_minor": 4
}
