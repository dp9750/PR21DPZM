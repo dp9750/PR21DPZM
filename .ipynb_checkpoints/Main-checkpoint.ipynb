{
 "cells": [
  {
   "cell_type": "markdown",
   "metadata": {},
   "source": [
    "# Nesreče na smučiščih\n",
    "\n",
    "Vsako leto se v smučarski sezoni zgodi veliko nesreč, zato bova poskušala podatke o preteklih nesrečah analizirati in ugotoviti, kateri so ključni razlogi za nastanek nesreče, kakšne so najpostejše posledice, kakšni so bili pogoji smučanja in podobno.\n",
    "\n",
    "## Podatki\n",
    "\n",
    "[Povezava](https://podatki.gov.si/dataset/evidenca-nesrec-na-smuciscih1)\n",
    "\n",
    "Podatke sva našla na spletni strani podatki.gov.si. Ker so nama datoteke CSV bolj domače od PCAXIS sva se odločila za te, čeprav je to precej zmanjšalo najino izbiro. Datoteka obsega podrobne informacije o nesrečah na slovenskih smučiščih za leta od 2013 do vključno 2017.\n",
    "\n",
    "V podatkih je 23 atributov, to so oznaka zadeve, različne okoliščine nesreče (ura, veter, vreme...), podatki o udeležencih in drugo. Med podatki je veliko napak in manjkajočih vrednosti, zato bo te težave potrebno najprej odpraviti.\n",
    "\n",
    "## Uporabljene knjižnice"
   ]
  },
  {
   "cell_type": "code",
   "execution_count": 1,
   "metadata": {},
   "outputs": [],
   "source": [
    "import numpy as np\n",
    "from csv import DictReader\n",
    "from collections import OrderedDict\n",
    "from matplotlib import pyplot as plt"
   ]
  },
  {
   "cell_type": "markdown",
   "metadata": {},
   "source": [
    "## Branje podatkov"
   ]
  },
  {
   "cell_type": "code",
   "execution_count": 2,
   "metadata": {},
   "outputs": [],
   "source": [
    "# Datoteka mora biti v enaki mapi kot Main.py\n",
    "# Vrne seznam slovarjev - vsaka vrstica je svoj slovar\n",
    "def read_file(filename):\n",
    "    try:\n",
    "        with open(filename) as file:\n",
    "            reader = DictReader(file, delimiter=\";\")\n",
    "            return list(reader)\n",
    "        \n",
    "    except FileNotFoundError:\n",
    "        print(\"File {0} not found. \".format(filename))"
   ]
  },
  {
   "cell_type": "code",
   "execution_count": 3,
   "metadata": {},
   "outputs": [],
   "source": [
    "# read data\n",
    "data = read_file(\"podatki.csv\")"
   ]
  },
  {
   "cell_type": "markdown",
   "metadata": {},
   "source": [
    "## Atributi\n",
    "\n",
    "Atributi so v datoteki shranjeni vsak z svojo zaporedno številko, začnejo se še z veliko začetnico in vsebujejo tudi šumnike in druge znake, zato sva najprej te pretvorila v utrezno obliko. Odstranila sva zaporedno številko atributa, ime pretvorila v male črke ter zamenjala presledke s podčrtaji.\n",
    "\n",
    "Skupno je 23 atributov, ki so navedeni spodaj."
   ]
  },
  {
   "cell_type": "code",
   "execution_count": 4,
   "metadata": {},
   "outputs": [],
   "source": [
    "# Odstrani šumnike in vodilne številke,\n",
    "# pretvori v male črke\n",
    "def format_key(attribute):\n",
    "    slovar = {'č': 'c', 'š': 's', 'ž':'z', 'ć': 'c'}\n",
    "    attribute = attribute.lower()\n",
    "    splitted = attribute.split(\" \")\n",
    "    splitted.pop(0)\n",
    "    output = \"\"\n",
    "    for c in \"_\".join(splitted):\n",
    "        if c in slovar:\n",
    "            output += slovar[c]\n",
    "        else: \n",
    "            output += c\n",
    "    return output"
   ]
  },
  {
   "cell_type": "code",
   "execution_count": 5,
   "metadata": {},
   "outputs": [],
   "source": [
    "def format_attributes(rows):\n",
    "    for i, row in enumerate(rows):\n",
    "        output = {}\n",
    "        for key, value in row.items():\n",
    "            output[format_key(key)] = value\n",
    "        rows[i] = output"
   ]
  },
  {
   "cell_type": "code",
   "execution_count": 6,
   "metadata": {},
   "outputs": [
    {
     "name": "stdout",
     "output_type": "stream",
     "text": [
      "stevilka_zadeve\n",
      "datum_nesrece\n",
      "ura_nesrece\n",
      "nadzornik_prisoten\n",
      "zdravnik_prisoten\n",
      "resevalec_prisoten\n",
      "udelezenec_a_–_leto_rojstva\n",
      "udelezenec_a_–_drzava\n",
      "udelezenec_a_–_zvrst_smucanja\n",
      "udelezenec_a_–_ravnanje_pred_nesreco\n",
      "udelezenec_b_–_leto_rojstva\n",
      "udelezenec_b_–_drzava\n",
      "udelezenec_b_–_zvrst_smucanja\n",
      "udelezenec_b_–_ravnanje_pred_nesreco\n",
      "skica_nesrece\n",
      "fotografija_kraja_nesrece\n",
      "posnetek_kraja_nesrece\n",
      "vreme\n",
      "vidljivost\n",
      "temperatura\n",
      "vrsta_snega\n",
      "veter\n",
      "telesna_poskodba\n"
     ]
    }
   ],
   "source": [
    "# formatiranje atributov\n",
    "format_attributes(data)\n",
    "\n",
    "# Izpis atributov\n",
    "for key in data[0].keys():\n",
    "    print(key)"
   ]
  },
  {
   "cell_type": "markdown",
   "metadata": {},
   "source": [
    "## Filtriranje podatkov\n",
    "\n",
    "Določenim podatkom manjkajo vrednosti, ali pa so po nepotrebnem dodane. Nekaterim letom na primer manjka vodilna števka (983 namesto 1983), nekateri pa imajo vrednosti dodane, npr. '4 s snegom povsem pokrito smučišče' in 's snegom povsem pokrito smučišče' sta dve vrsti snega, čeprav gre za isto stvar. Te in podobne težave je potrebno odpraviti. "
   ]
  },
  {
   "cell_type": "code",
   "execution_count": 7,
   "metadata": {},
   "outputs": [],
   "source": [
    "def replace_value(value):\n",
    "    value = value.strip(\" \").lower()\n",
    "    value = value.split(\" \")\n",
    "    value.pop(0)\n",
    "    if value:\n",
    "        return \" \".join(value)\n",
    "    return None\n",
    "\n",
    "def replace_bool(value):\n",
    "    value = value.strip()\n",
    "    if not value or value == \"Ne\":\n",
    "        return False\n",
    "    return True\n",
    "\n",
    "def replace_bool_unstrict(value):\n",
    "    value = value.strip().lower()\n",
    "    if not value:\n",
    "        return None\n",
    "    if value == \"ne\":\n",
    "        return False\n",
    "    return True\n",
    "\n",
    "def replace_year(value):\n",
    "    value = value.strip()\n",
    "    if not value:\n",
    "        return None\n",
    "    if len(value) == 3:\n",
    "        return \"1\" + str(value)\n",
    "    return value\n",
    "\n",
    "def replace_none(value):\n",
    "    value = value.strip(\" \").lower()\n",
    "    if not value:\n",
    "        return None\n",
    "    return value"
   ]
  },
  {
   "cell_type": "code",
   "execution_count": 8,
   "metadata": {},
   "outputs": [],
   "source": [
    "for i, row in enumerate(data):\n",
    "    \n",
    "    # nadzornik_prisoten, zdravnik_prisoten, resevalec_prisoten\n",
    "    data[i][\"nadzornik_prisoten\"] = replace_bool_unstrict(row[\"nadzornik_prisoten\"])\n",
    "    data[i][\"zdravnik_prisoten\"] = replace_bool_unstrict(row[\"zdravnik_prisoten\"])\n",
    "    data[i][\"resevalec_prisoten\"] = replace_bool_unstrict(row[\"resevalec_prisoten\"])\n",
    "    \n",
    "    # udeleženec A in B leto rojstva\n",
    "    data[i][\"udelezenec_a_–_leto_rojstva\"] = replace_year(row[\"udelezenec_a_–_leto_rojstva\"])\n",
    "    data[i][\"udelezenec_b_–_leto_rojstva\"] = replace_year(row[\"udelezenec_b_–_leto_rojstva\"])\n",
    "    \n",
    "    # udeleženec A in B ravnanje pred nesrečo\n",
    "    data[i][\"udelezenec_a_–_ravnanje_pred_nesreco\"] = replace_value(row[\"udelezenec_a_–_ravnanje_pred_nesreco\"])\n",
    "    data[i][\"udelezenec_b_–_ravnanje_pred_nesreco\"] = replace_value(row[\"udelezenec_b_–_ravnanje_pred_nesreco\"])\n",
    "    \n",
    "    # udeleženec A in B država\n",
    "    data[i][\"udelezenec_a_–_drzava\"] = replace_none(row[\"udelezenec_a_–_drzava\"])\n",
    "    data[i][\"udelezenec_b_–_drzava\"] = replace_none(row[\"udelezenec_b_–_drzava\"])\n",
    "    \n",
    "    # skica nesreče\n",
    "    data[i][\"skica_nesrece\"] = replace_bool(row[\"skica_nesrece\"])\n",
    "    \n",
    "    # fotografija nesreče\n",
    "    data[i][\"fotografija_kraja_nesrece\"] = replace_bool(row[\"fotografija_kraja_nesrece\"])\n",
    "    \n",
    "    # posnetek kraja nesreče\n",
    "    data[i][\"posnetek_kraja_nesrece\"] = replace_bool(row[\"posnetek_kraja_nesrece\"])\n",
    "    \n",
    "    # vreme\n",
    "    data[i][\"vreme\"] = replace_value(row[\"vreme\"])\n",
    "    \n",
    "    # vidljivost\n",
    "    data[i][\"vidljivost\"] = replace_value(row[\"vidljivost\"])\n",
    "       \n",
    "    # vrsta snega\n",
    "    data[i][\"vrsta_snega\"] = replace_value(row[\"vrsta_snega\"])\n",
    "    \n",
    "    # veter\n",
    "    data[i][\"veter\"] = replace_value(row[\"veter\"])"
   ]
  },
  {
   "cell_type": "markdown",
   "metadata": {},
   "source": [
    "## Nesreče po posamezni uri"
   ]
  },
  {
   "cell_type": "code",
   "execution_count": 9,
   "metadata": {},
   "outputs": [],
   "source": [
    "# Parameter rows so prebrani podatki\n",
    "def accident_times(rows):\n",
    "    hours = {}\n",
    "    for row in rows:\n",
    "        time = row[\"ura_nesrece\"]\n",
    "        hour = time.split(\":\")[0]\n",
    "        if hour not in hours:\n",
    "            hours[hour] = 0\n",
    "        hours[hour] += 1\n",
    "\n",
    "    # sort by hour\n",
    "    count = OrderedDict(sorted(hours.items(), reverse=True))\n",
    "\n",
    "    x = list(count.keys())\n",
    "    y = list(count.values())\n",
    "    plt.barh(x, y)\n",
    "    plt.title(\"Nesreče po urah\")\n",
    "    plt.xlabel(\"Št. nesreč\")\n",
    "    plt.ylabel(\"Ura\")\n",
    "    plt.show()"
   ]
  },
  {
   "cell_type": "code",
   "execution_count": 10,
   "metadata": {},
   "outputs": [
    {
     "data": {
      "image/png": "[encoded data removed]",
      "text/plain": [
       "<Figure size 432x288 with 1 Axes>"
      ]
     },
     "metadata": {
      "needs_background": "light"
     },
     "output_type": "display_data"
    }
   ],
   "source": [
    "# plot accidents at given hour\n",
    "accident_times(data)"
   ]
  },
  {
   "cell_type": "markdown",
   "metadata": {},
   "source": [
    "Vidi se, da se največ nesreč zgodi med deveto uro zjutraj in štirih popoldne, ko je na smučišču največ ljudi. Med 22. uro in polnočjo pa ni bilo zabeležene nobene nesreče.\n",
    "\n",
    "## Nesreče po mescih\n",
    "\n",
    "Za vsako nesrečo je zabeležen datum, kdaj je do nje prišlo. Ta datum sva v naslednjem primeru pretvorila v številko mesca in preštela število nesreč za posamezni mesec. <br>Kot pričakovano je največ nesreč ravno v zimskih mesecih, ko se novembra začne smučarska sezona in traja vse do aprila. V poletnih mescih nesreč skoraj da ni, avgusta, septembra in oktobra pa ni bila zabeležena nobena nesreča."
   ]
  },
  {
   "cell_type": "code",
   "execution_count": 11,
   "metadata": {},
   "outputs": [
    {
     "data": {
      "image/png": "[encoded data removed]",
      "text/plain": [
       "<Figure size 432x288 with 1 Axes>"
      ]
     },
     "metadata": {
      "needs_background": "light"
     },
     "output_type": "display_data"
    }
   ],
   "source": [
    "# Nesreče glede na mesec\n",
    "def accident_date(rows):\n",
    "    dates = {}\n",
    "    \n",
    "    for row in rows:\n",
    "        date = row[\"datum_nesrece\"]\n",
    "        month = date.split(\".\")[1]\n",
    "        if month not in dates:\n",
    "            dates[month] = 0\n",
    "        dates[month] += 1\n",
    "    \n",
    "    # sort by month\n",
    "    count = OrderedDict(sorted(dates.items()))\n",
    "    \n",
    "    x = list(count.keys())\n",
    "    y = list(count.values())\n",
    "    plt.bar(x, y)\n",
    "    plt.title(\"Nesreče po mescih\")\n",
    "    plt.ylabel(\"Št. nesreč\")\n",
    "    plt.xlabel(\"Mesec\")\n",
    "    plt.show()\n",
    "    \n",
    "accident_date(data)"
   ]
  },
  {
   "cell_type": "markdown",
   "metadata": {},
   "source": [
    "## Prisotno osebje"
   ]
  },
  {
   "cell_type": "code",
   "execution_count": 12,
   "metadata": {},
   "outputs": [],
   "source": [
    "def counter(rows, column):\n",
    "    slovar = {}\n",
    "    \n",
    "    for row in rows:\n",
    "        col = row[column]\n",
    "        if col not in slovar:\n",
    "            slovar[col] = 0\n",
    "        slovar[col] += 1\n",
    "    \n",
    "    return slovar"
   ]
  },
  {
   "cell_type": "code",
   "execution_count": 14,
   "metadata": {},
   "outputs": [
    {
     "data": {
      "image/png": "[encoded data removed]",
      "text/plain": [
       "<Figure size 432x288 with 1 Axes>"
      ]
     },
     "metadata": {
      "needs_background": "light"
     },
     "output_type": "display_data"
    }
   ],
   "source": [
    "def present_personnel(rows):\n",
    "    \n",
    "    array = counter(rows, \"nadzornik_prisoten\")\n",
    "    array = dict(sorted(array.items(), key=lambda t: (str(t[1]), str(t[0])), reverse=True))\n",
    "    \n",
    "    x1 = list(array.keys())\n",
    "    y1 = list(array.values())\n",
    "    \n",
    "    array = counter(rows, \"zdravnik_prisoten\")\n",
    "    array = dict(sorted(array.items(), key=lambda t: (str(t[1]), str(t[0])), reverse=True))\n",
    "    \n",
    "    x2 = list(array.keys())\n",
    "    y2 = list(array.values())\n",
    "    \n",
    "    values = [y1, y2]\n",
    "\n",
    "    X = np.arange(3)\n",
    "    plt.bar(X + 0.00, values[0], color = 'r', width = 0.33)\n",
    "    plt.bar(X + 0.33, values[1], color = 'b', width = 0.33)\n",
    "\n",
    "    plt.show()\n",
    "\n",
    "present_personnel(data)"
   ]
  }
 ],
 "metadata": {
  "kernelspec": {
   "display_name": "Python 3",
   "language": "python",
   "name": "python3"
  },
  "language_info": {
   "codemirror_mode": {
    "name": "ipython",
    "version": 3
   },
   "file_extension": ".py",
   "mimetype": "text/x-python",
   "name": "python",
   "nbconvert_exporter": "python",
   "pygments_lexer": "ipython3",
   "version": "3.7.6"
  }
 },
 "nbformat": 4,
 "nbformat_minor": 4
}
